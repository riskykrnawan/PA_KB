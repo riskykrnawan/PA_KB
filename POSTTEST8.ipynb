{
  "cells": [
    {
      "cell_type": "markdown",
      "metadata": {
        "id": "pCbLiD-z4_Sr"
      },
      "source": [
        "Deskripsi dataset"
      ]
    },
    {
      "cell_type": "code",
      "execution_count": 19,
      "metadata": {
        "id": "sKH7-24Ik7wr"
      },
      "outputs": [],
      "source": [
        "import numpy as np\n",
        "import pandas as pd\n",
        "\n",
        "# plot\n",
        "import matplotlib.pyplot as plt\n",
        "import urllib.request\n",
        "\n",
        "# tf\n",
        "import tensorflow as tf\n",
        "from keras.preprocessing.image import ImageDataGenerator"
      ]
    },
    {
      "cell_type": "markdown",
      "metadata": {
        "id": "vD82h14S0DAF"
      },
      "source": [
        "## URL Dataset"
      ]
    },
    {
      "cell_type": "code",
      "execution_count": 20,
      "metadata": {
        "colab": {
          "base_uri": "https://localhost:8080/"
        },
        "id": "EF0y0lrrJV-p",
        "outputId": "7348811f-c503-4232-ddd7-1d3ef3699dfe"
      },
      "outputs": [],
      "source": [
        "# from google.colab import drive\n",
        "# drive.mount('/content/drive')"
      ]
    },
    {
      "cell_type": "markdown",
      "metadata": {
        "id": "hBf5MaISwP1A"
      },
      "source": [
        "url relative path ke dataset"
      ]
    },
    {
      "cell_type": "code",
      "execution_count": 21,
      "metadata": {
        "id": "-NfOYBUcJdCl"
      },
      "outputs": [],
      "source": [
        "# url = '/content/drive/MyDrive/Dataset'"
      ]
    },
    {
      "cell_type": "markdown",
      "metadata": {
        "id": "KTRd7_gQ0jme"
      },
      "source": [
        "# Data Train & Validation"
      ]
    },
    {
      "cell_type": "markdown",
      "metadata": {
        "id": "-MLXLtcrAPAY"
      },
      "source": [
        "untuk split folder train test val"
      ]
    },
    {
      "cell_type": "code",
      "execution_count": 22,
      "metadata": {
        "colab": {
          "base_uri": "https://localhost:8080/"
        },
        "id": "fqsIcqf3_Fki",
        "outputId": "5760da0f-afb4-4662-be95-44180eaca1fa"
      },
      "outputs": [
        {
          "name": "stdout",
          "output_type": "stream",
          "text": [
            "Requirement already satisfied: split-folders in c:\\users\\daffa\\appdata\\local\\programs\\python\\python310\\lib\\site-packages (0.5.1)\n"
          ]
        },
        {
          "name": "stderr",
          "output_type": "stream",
          "text": [
            "\n",
            "[notice] A new release of pip available: 22.2.2 -> 22.3.1\n",
            "[notice] To update, run: python.exe -m pip install --upgrade pip\n"
          ]
        }
      ],
      "source": [
        "!pip install split-folders"
      ]
    },
    {
      "cell_type": "markdown",
      "metadata": {
        "id": "cpKt8klfAeCy"
      },
      "source": []
    },
    {
      "cell_type": "markdown",
      "metadata": {
        "id": "CLnJ95AqASza"
      },
      "source": [
        "tempat untuk naroh output splitfolder"
      ]
    },
    {
      "cell_type": "code",
      "execution_count": 23,
      "metadata": {
        "id": "tTakvVRPAIUX"
      },
      "outputs": [],
      "source": [
        "url_split = 'dataset-output'\n",
        "url = 'insect'"
      ]
    },
    {
      "cell_type": "code",
      "execution_count": 24,
      "metadata": {
        "colab": {
          "base_uri": "https://localhost:8080/"
        },
        "id": "RrzKKJuE-J6j",
        "outputId": "b69c6652-1914-451c-f96b-1199078cfba3"
      },
      "outputs": [],
      "source": [
        "import splitfolders \n",
        "\n",
        "splitfolders.ratio(url, output=url_split, seed=42, ratio=(0.7,0.2,0.1), group_prefix=None)"
      ]
    },
    {
      "cell_type": "markdown",
      "metadata": {
        "id": "f-voTqnW12yF"
      },
      "source": [
        "Disini saya menggunakan Image data generator dan batch size sebanyak 128\n",
        "untuk validation, saya menggunakan 20% data.\n",
        "Kemudian untuk subset training dan validation, target size nya adalah 120."
      ]
    },
    {
      "cell_type": "markdown",
      "metadata": {
        "id": "vRnQIfrTAXHr"
      },
      "source": [
        "ambil path dari folder masing - masing output"
      ]
    },
    {
      "cell_type": "code",
      "execution_count": 25,
      "metadata": {
        "id": "5dwojDaYAMGq"
      },
      "outputs": [],
      "source": [
        "train = 'dataset-output/train/'\n",
        "val = 'dataset-output/val/'\n",
        "test = 'dataset-output/test/'"
      ]
    },
    {
      "cell_type": "code",
      "execution_count": 26,
      "metadata": {
        "colab": {
          "base_uri": "https://localhost:8080/"
        },
        "id": "Hq3Pe7fLJyn-",
        "outputId": "7e7bee6d-ab0c-433c-f993-db2abf797e08"
      },
      "outputs": [
        {
          "name": "stdout",
          "output_type": "stream",
          "text": [
            "Found 3112 images belonging to 5 classes.\n",
            "Found 449 images belonging to 5 classes.\n",
            "Found 888 images belonging to 5 classes.\n"
          ]
        }
      ],
      "source": [
        "batch_size = 128\n",
        "\n",
        "train_image_generator = ImageDataGenerator(\n",
        "    rescale=1./255, \n",
        "    rotation_range=45,\n",
        "    horizontal_flip=True,\n",
        ") #data preprocessing\n",
        "\n",
        "train = train_image_generator.flow_from_directory(\n",
        "    train, \n",
        "    target_size=(120,120),\n",
        "    batch_size=batch_size, \n",
        "    color_mode=\"grayscale\"\n",
        ")\n",
        "\n",
        "test = train_image_generator.flow_from_directory(\n",
        "    test, \n",
        "    target_size=(120,120),\n",
        "    batch_size=batch_size,\n",
        "    color_mode=\"grayscale\"\n",
        ")\n",
        "\n",
        "val = train_image_generator.flow_from_directory(\n",
        "    val, \n",
        "    target_size=(120,120),\n",
        "    batch_size=batch_size,\n",
        "    color_mode=\"grayscale\"\n",
        ")"
      ]
    },
    {
      "cell_type": "markdown",
      "metadata": {
        "id": "phDD9wZz0Jhx"
      },
      "source": [
        "# Model "
      ]
    },
    {
      "cell_type": "markdown",
      "metadata": {
        "id": "30_h3xrC0U_Q"
      },
      "source": [
        "Pada syntax di atas model dibentuk dengan suatu layer convo 2 dimensi dari size 120 x 120 pixels dimana fungsi aktivasinya adalah. Terdapat dua pembuatan layer convo, sehingga dilanjutkan dengan pembuatan layer max pooling dan pembuatan layer dropout. Karena ini adalah pelatihan deep learning maka perlu pelatihan lagi dengan membuat lagi layer untuk pelatihan. Kemudian dilanjutkan dengan layer flatten dan layer dense sampai dengan proses kompilasi.\n",
        "\n"
      ]
    },
    {
      "cell_type": "code",
      "execution_count": 12,
      "metadata": {
        "id": "KKASX8IMKDe5"
      },
      "outputs": [],
      "source": [
        "model = tf.keras.Sequential([\n",
        "    tf.keras.layers.Conv2D(\n",
        "        64, \n",
        "        (3,3), \n",
        "        activation='relu',\n",
        "        input_shape=(120, 120, 3), \n",
        "        padding='same'\n",
        "        ),\n",
        "\n",
        "      tf.keras.layers.Conv2D(\n",
        "        64, (3,3), \n",
        "        activation='relu',\n",
        "        input_shape=(120, 120, 3),\n",
        "        padding='same'\n",
        "        ),\n",
        "    tf.keras.layers.MaxPooling2D(2, 2),\n",
        "    tf.keras.layers.Dropout(0.3),\n",
        "\n",
        "    tf.keras.layers.Conv2D(\n",
        "        256, \n",
        "        (3,3), \n",
        "        activation='relu', \n",
        "        padding='same'\n",
        "        ),\n",
        "    \n",
        "    tf.keras.layers.Conv2D(\n",
        "      256, \n",
        "      (3,3), \n",
        "      activation='relu',\n",
        "      padding='same'\n",
        "      ),\n",
        "    tf.keras.layers.MaxPooling2D(2, 2),\n",
        "    tf.keras.layers.Dropout(0.3),\n",
        "    \n",
        "\n",
        "    tf.keras.layers.Flatten(),\n",
        "    tf.keras.layers.Dense(1024, activation='relu'),\n",
        "    tf.keras.layers.Dropout(0.5),\n",
        "\n",
        "    tf.keras.layers.Dense(512, activation='relu'),\n",
        "    tf.keras.layers.Dropout(0.5),\n",
        "    tf.keras.layers.Dense(5, activation='softmax')     \n",
        "])\n",
        "\n",
        "# konfigurasi model\n",
        "model.compile(loss = 'categorical_crossentropy', optimizer='adam', \n",
        "              metrics=['accuracy'])\n"
      ]
    },
    {
      "cell_type": "code",
      "execution_count": 13,
      "metadata": {
        "colab": {
          "base_uri": "https://localhost:8080/"
        },
        "id": "zQhZ89wtL9Hf",
        "outputId": "ab48b645-009b-41c5-e82a-3ad85ef9f68a"
      },
      "outputs": [
        {
          "name": "stdout",
          "output_type": "stream",
          "text": [
            "Model: \"sequential\"\n",
            "_________________________________________________________________\n",
            " Layer (type)                Output Shape              Param #   \n",
            "=================================================================\n",
            " conv2d (Conv2D)             (None, 120, 120, 64)      1792      \n",
            "                                                                 \n",
            " conv2d_1 (Conv2D)           (None, 120, 120, 64)      36928     \n",
            "                                                                 \n",
            " max_pooling2d (MaxPooling2D  (None, 60, 60, 64)       0         \n",
            " )                                                               \n",
            "                                                                 \n",
            " dropout (Dropout)           (None, 60, 60, 64)        0         \n",
            "                                                                 \n",
            " conv2d_2 (Conv2D)           (None, 60, 60, 256)       147712    \n",
            "                                                                 \n",
            " conv2d_3 (Conv2D)           (None, 60, 60, 256)       590080    \n",
            "                                                                 \n",
            " max_pooling2d_1 (MaxPooling  (None, 30, 30, 256)      0         \n",
            " 2D)                                                             \n",
            "                                                                 \n",
            " dropout_1 (Dropout)         (None, 30, 30, 256)       0         \n",
            "                                                                 \n",
            " flatten (Flatten)           (None, 230400)            0         \n",
            "                                                                 \n",
            " dense (Dense)               (None, 1024)              235930624 \n",
            "                                                                 \n",
            " dropout_2 (Dropout)         (None, 1024)              0         \n",
            "                                                                 \n",
            " dense_1 (Dense)             (None, 512)               524800    \n",
            "                                                                 \n",
            " dropout_3 (Dropout)         (None, 512)               0         \n",
            "                                                                 \n",
            " dense_2 (Dense)             (None, 5)                 2565      \n",
            "                                                                 \n",
            "=================================================================\n",
            "Total params: 237,234,501\n",
            "Trainable params: 237,234,501\n",
            "Non-trainable params: 0\n",
            "_________________________________________________________________\n"
          ]
        }
      ],
      "source": [
        "model.summary()"
      ]
    },
    {
      "cell_type": "code",
      "execution_count": 14,
      "metadata": {
        "id": "qUlStieAL-IA"
      },
      "outputs": [],
      "source": [
        "steps, val_steps = train.n/batch_size, val.n/batch_size\n",
        "num_epochs = 50"
      ]
    },
    {
      "cell_type": "markdown",
      "metadata": {
        "id": "_epCVuzj1v5h"
      },
      "source": [
        "epoch dibuat sebanyak 50"
      ]
    },
    {
      "cell_type": "code",
      "execution_count": 15,
      "metadata": {
        "id": "xlfQiSR6-wG7"
      },
      "outputs": [
        {
          "name": "stdout",
          "output_type": "stream",
          "text": [
            "Epoch 1/50\n",
            "24/24 [==============================] - 401s 16s/step - loss: 1.8717 - accuracy: 0.2230 - val_loss: 1.5842 - val_accuracy: 0.2320\n",
            "Epoch 2/50\n",
            "24/24 [==============================] - 397s 16s/step - loss: 1.5716 - accuracy: 0.2365 - val_loss: 1.5640 - val_accuracy: 0.2331\n",
            "Epoch 3/50\n",
            "24/24 [==============================] - 380s 16s/step - loss: 1.5031 - accuracy: 0.3352 - val_loss: 1.4466 - val_accuracy: 0.3626\n",
            "Epoch 4/50\n",
            "24/24 [==============================] - 379s 16s/step - loss: 1.4028 - accuracy: 0.3927 - val_loss: 1.3722 - val_accuracy: 0.4279\n",
            "Epoch 5/50\n",
            "24/24 [==============================] - 381s 16s/step - loss: 1.3470 - accuracy: 0.4271 - val_loss: 1.2761 - val_accuracy: 0.4538\n",
            "Epoch 6/50\n",
            "24/24 [==============================] - 382s 16s/step - loss: 1.3013 - accuracy: 0.4425 - val_loss: 1.2468 - val_accuracy: 0.4437\n",
            "Epoch 7/50\n",
            "24/24 [==============================] - 355s 15s/step - loss: 1.2866 - accuracy: 0.4688 - val_loss: 1.2058 - val_accuracy: 0.4741\n",
            "Epoch 8/50\n",
            "24/24 [==============================] - 377s 16s/step - loss: 1.3047 - accuracy: 0.4418 - val_loss: 1.2170 - val_accuracy: 0.4977\n",
            "Epoch 9/50\n",
            "24/24 [==============================] - 371s 15s/step - loss: 1.2061 - accuracy: 0.5129 - val_loss: 1.1714 - val_accuracy: 0.4944\n",
            "Epoch 10/50\n",
            "24/24 [==============================] - 344s 14s/step - loss: 1.1690 - accuracy: 0.5138 - val_loss: 1.0994 - val_accuracy: 0.5631\n",
            "Epoch 11/50\n",
            "24/24 [==============================] - 342s 14s/step - loss: 1.1288 - accuracy: 0.5517 - val_loss: 1.0802 - val_accuracy: 0.5653\n",
            "Epoch 12/50\n",
            "24/24 [==============================] - 344s 14s/step - loss: 1.1044 - accuracy: 0.5627 - val_loss: 1.0662 - val_accuracy: 0.5788\n",
            "Epoch 13/50\n",
            "24/24 [==============================] - 354s 15s/step - loss: 1.0866 - accuracy: 0.5720 - val_loss: 1.0725 - val_accuracy: 0.5631\n",
            "Epoch 14/50\n",
            "24/24 [==============================] - 352s 14s/step - loss: 1.0482 - accuracy: 0.5884 - val_loss: 1.1150 - val_accuracy: 0.5563\n",
            "Epoch 15/50\n",
            "24/24 [==============================] - 353s 15s/step - loss: 1.0505 - accuracy: 0.5845 - val_loss: 1.0086 - val_accuracy: 0.5822\n",
            "Epoch 16/50\n",
            "24/24 [==============================] - 351s 14s/step - loss: 1.0100 - accuracy: 0.6083 - val_loss: 0.9899 - val_accuracy: 0.6002\n",
            "Epoch 17/50\n",
            "24/24 [==============================] - 351s 14s/step - loss: 0.9969 - accuracy: 0.6086 - val_loss: 1.0016 - val_accuracy: 0.6014\n",
            "Epoch 18/50\n",
            "24/24 [==============================] - 346s 14s/step - loss: 0.9603 - accuracy: 0.6218 - val_loss: 1.0143 - val_accuracy: 0.6059\n",
            "Epoch 19/50\n",
            "24/24 [==============================] - 360s 15s/step - loss: 0.9808 - accuracy: 0.6170 - val_loss: 1.0384 - val_accuracy: 0.5788\n",
            "Epoch 20/50\n",
            "24/24 [==============================] - 363s 15s/step - loss: 0.9568 - accuracy: 0.6353 - val_loss: 0.9438 - val_accuracy: 0.6149\n",
            "Epoch 21/50\n",
            "24/24 [==============================] - 355s 15s/step - loss: 0.9441 - accuracy: 0.6269 - val_loss: 0.9852 - val_accuracy: 0.6182\n",
            "Epoch 22/50\n",
            "24/24 [==============================] - 351s 14s/step - loss: 0.9206 - accuracy: 0.6424 - val_loss: 0.9505 - val_accuracy: 0.6340\n",
            "Epoch 23/50\n",
            "24/24 [==============================] - 372s 15s/step - loss: 0.9117 - accuracy: 0.6523 - val_loss: 0.9459 - val_accuracy: 0.6115\n",
            "Epoch 24/50\n",
            "24/24 [==============================] - 361s 15s/step - loss: 0.9077 - accuracy: 0.6517 - val_loss: 0.9761 - val_accuracy: 0.6070\n",
            "Epoch 25/50\n",
            "24/24 [==============================] - 358s 15s/step - loss: 0.8834 - accuracy: 0.6523 - val_loss: 0.9203 - val_accuracy: 0.6374\n",
            "Epoch 26/50\n",
            "24/24 [==============================] - 356s 15s/step - loss: 0.8843 - accuracy: 0.6517 - val_loss: 0.9001 - val_accuracy: 0.6385\n",
            "Epoch 27/50\n",
            "24/24 [==============================] - 380s 16s/step - loss: 0.8815 - accuracy: 0.6623 - val_loss: 0.9117 - val_accuracy: 0.6385\n",
            "Epoch 28/50\n",
            "24/24 [==============================] - 377s 15s/step - loss: 0.8449 - accuracy: 0.6693 - val_loss: 0.9056 - val_accuracy: 0.6453\n",
            "Epoch 29/50\n",
            "24/24 [==============================] - 366s 15s/step - loss: 0.8427 - accuracy: 0.6706 - val_loss: 1.0312 - val_accuracy: 0.5901\n",
            "Epoch 30/50\n",
            "24/24 [==============================] - 364s 15s/step - loss: 0.8422 - accuracy: 0.6748 - val_loss: 0.9372 - val_accuracy: 0.6092\n",
            "Epoch 31/50\n",
            "24/24 [==============================] - 360s 15s/step - loss: 0.8301 - accuracy: 0.6767 - val_loss: 0.8906 - val_accuracy: 0.6588\n",
            "Epoch 32/50\n",
            "24/24 [==============================] - 361s 15s/step - loss: 0.8103 - accuracy: 0.6960 - val_loss: 0.9031 - val_accuracy: 0.6385\n",
            "Epoch 33/50\n",
            "24/24 [==============================] - 353s 15s/step - loss: 0.8172 - accuracy: 0.6928 - val_loss: 0.8920 - val_accuracy: 0.6464\n",
            "Epoch 34/50\n",
            "24/24 [==============================] - 351s 14s/step - loss: 0.8361 - accuracy: 0.6854 - val_loss: 0.8986 - val_accuracy: 0.6475\n",
            "Epoch 35/50\n",
            "24/24 [==============================] - 355s 15s/step - loss: 0.7814 - accuracy: 0.7063 - val_loss: 0.8833 - val_accuracy: 0.6486\n",
            "Epoch 36/50\n",
            "24/24 [==============================] - 359s 15s/step - loss: 0.7606 - accuracy: 0.7082 - val_loss: 0.8556 - val_accuracy: 0.6599\n",
            "Epoch 37/50\n",
            "24/24 [==============================] - 352s 15s/step - loss: 0.7822 - accuracy: 0.7102 - val_loss: 0.8817 - val_accuracy: 0.6588\n",
            "Epoch 38/50\n",
            "24/24 [==============================] - 348s 14s/step - loss: 0.7628 - accuracy: 0.7050 - val_loss: 0.8906 - val_accuracy: 0.6509\n",
            "Epoch 39/50\n",
            "24/24 [==============================] - 349s 14s/step - loss: 0.7569 - accuracy: 0.7085 - val_loss: 0.8670 - val_accuracy: 0.6813\n",
            "Epoch 40/50\n",
            "24/24 [==============================] - 347s 14s/step - loss: 0.7555 - accuracy: 0.7079 - val_loss: 0.8604 - val_accuracy: 0.6644\n",
            "Epoch 41/50\n",
            "24/24 [==============================] - 347s 14s/step - loss: 0.7435 - accuracy: 0.7208 - val_loss: 0.9584 - val_accuracy: 0.6453\n",
            "Epoch 42/50\n",
            "24/24 [==============================] - 348s 14s/step - loss: 0.7334 - accuracy: 0.7195 - val_loss: 0.8633 - val_accuracy: 0.6824\n",
            "Epoch 43/50\n",
            "24/24 [==============================] - 347s 14s/step - loss: 0.7323 - accuracy: 0.7214 - val_loss: 0.8422 - val_accuracy: 0.6678\n",
            "Epoch 44/50\n",
            "24/24 [==============================] - 347s 14s/step - loss: 0.7126 - accuracy: 0.7256 - val_loss: 0.8763 - val_accuracy: 0.6633\n",
            "Epoch 45/50\n",
            "24/24 [==============================] - 347s 14s/step - loss: 0.7093 - accuracy: 0.7285 - val_loss: 0.9078 - val_accuracy: 0.6588\n",
            "Epoch 46/50\n",
            "24/24 [==============================] - 347s 14s/step - loss: 0.7132 - accuracy: 0.7281 - val_loss: 0.8566 - val_accuracy: 0.6689\n",
            "Epoch 47/50\n",
            "24/24 [==============================] - 346s 14s/step - loss: 0.6766 - accuracy: 0.7378 - val_loss: 0.8340 - val_accuracy: 0.6869\n",
            "Epoch 48/50\n",
            "24/24 [==============================] - 346s 14s/step - loss: 0.6818 - accuracy: 0.7326 - val_loss: 0.8696 - val_accuracy: 0.6689\n",
            "Epoch 49/50\n",
            "24/24 [==============================] - 342s 14s/step - loss: 0.6854 - accuracy: 0.7506 - val_loss: 0.8441 - val_accuracy: 0.6824\n",
            "Epoch 50/50\n",
            "24/24 [==============================] - 343s 14s/step - loss: 0.6671 - accuracy: 0.7497 - val_loss: 0.8465 - val_accuracy: 0.6824\n"
          ]
        }
      ],
      "source": [
        "history = model.fit(train, validation_data=val, epochs=num_epochs,\n",
        "                    steps_per_epoch=steps, validation_steps=val_steps)"
      ]
    },
    {
      "cell_type": "code",
      "execution_count": 16,
      "metadata": {
        "id": "fegm8ZkG-xUT"
      },
      "outputs": [
        {
          "data": {
            "image/png": "[encoded data removed]",
            "text/plain": [
              "<Figure size 640x480 with 1 Axes>"
            ]
          },
          "metadata": {},
          "output_type": "display_data"
        }
      ],
      "source": [
        "acc = history.history['accuracy']\n",
        "val_acc = history.history['val_accuracy']\n",
        "\n",
        "epochs = range(len(acc))\n",
        "\n",
        "plt.plot(epochs, acc, 'r', label='Akurasi Training')\n",
        "plt.plot(epochs, val_acc, 'g', label='Akurasi Validation')\n",
        "\n",
        "plt.xlabel('Epochs')\n",
        "plt.ylabel('Akurasi')\n",
        "plt.title('Akurasi Training and validation')\n",
        "plt.grid(axis='both')\n",
        "\n",
        "plt.show() "
      ]
    },
    {
      "cell_type": "code",
      "execution_count": null,
      "metadata": {},
      "outputs": [],
      "source": [
        "# aa"
      ]
    }
  ],
  "metadata": {
    "accelerator": "GPU",
    "colab": {
      "provenance": []
    },
    "gpuClass": "standard",
    "kernelspec": {
      "display_name": "Python 3.10.7 64-bit",
      "language": "python",
      "name": "python3"
    },
    "language_info": {
      "codemirror_mode": {
        "name": "ipython",
        "version": 3
      },
      "file_extension": ".py",
      "mimetype": "text/x-python",
      "name": "python",
      "nbconvert_exporter": "python",
      "pygments_lexer": "ipython3",
      "version": "3.10.7"
    },
    "vscode": {
      "interpreter": {
        "hash": "f5f50d25ca3c68e82500d2bc39d9838cca35bd2c245f978e6b5682bdf2dfdf82"
      }
    }
  },
  "nbformat": 4,
  "nbformat_minor": 0
}
