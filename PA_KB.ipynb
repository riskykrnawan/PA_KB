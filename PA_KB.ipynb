{
  "cells": [
    {
      "cell_type": "code",
      "execution_count": null,
      "metadata": {
        "colab": {
          "base_uri": "https://localhost:8080/"
        },
        "id": "CtXPXWEGMoLA",
        "outputId": "13287860-835e-4982-80eb-233b8aa5d75d"
      },
      "outputs": [],
      "source": [
        "# add this if using colab \n",
        "# !pip install split-folders\n",
        "\n",
        "\n",
        "import os\n",
        "import numpy as np\n",
        "import pandas as pd\n",
        "\n",
        "# plot\n",
        "import glob\n",
        "# import cv2\n",
        "import matplotlib.pyplot as plt\n",
        "\n",
        "# tf\n",
        "import tensorflow as tf\n",
        "from keras.preprocessing.image import ImageDataGenerator\n",
        "\n",
        "import splitfolders\n",
        "\n",
        "import pathlib"
      ]
    },
    {
      "cell_type": "markdown",
      "metadata": {
        "id": "_vrVIOrZMoLG"
      },
      "source": [
        "## Data Collecting"
      ]
    },
    {
      "cell_type": "markdown",
      "metadata": {
        "id": "ZnqUHCEFMoLI"
      },
      "source": [
        "Dataset diambil dari website kaggle."
      ]
    },
    {
      "cell_type": "markdown",
      "metadata": {
        "id": "CgBUL1znMoLJ"
      },
      "source": [
        "### Tujuan PA"
      ]
    },
    {
      "cell_type": "markdown",
      "metadata": {
        "id": "aUOycq9aMoLJ"
      },
      "source": [
        "Membuat sebuah model yang dapat mengenali jenis dari serangga dengan menggunakan algoritma CNN.\n",
        "\n",
        "Batasan:\n",
        "  - Model ini hanya dapat mengenali:\n",
        "    - Kupu - Kupu, \n",
        "    - Capung, \n",
        "    - Nyamuk, \n",
        "    - Belalang,\n",
        "    - dan Kumbang."
      ]
    },
    {
      "cell_type": "markdown",
      "metadata": {
        "id": "HwoOoBfYMoLK"
      },
      "source": [
        "### Deskripsi Dataset"
      ]
    },
    {
      "cell_type": "markdown",
      "metadata": {
        "id": "8kHQDQSUMoLL"
      },
      "source": [
        "Dataset ini berupa gambar dari 5 serangga berbeda."
      ]
    },
    {
      "cell_type": "markdown",
      "metadata": {
        "id": "pCbLiD-z4_Sr"
      },
      "source": [
        "### Jumlah Dataset"
      ]
    },
    {
      "cell_type": "markdown",
      "metadata": {
        "id": "Yhd7LfPhMoLM"
      },
      "source": [
        "- Kupu - Kupu: 899\n",
        "- Capung: 1036\n",
        "- Nyamuk: 690\n",
        "- Belalang: 960\n",
        "- Kumbang: 864\n",
        "\n",
        "Total: 4449 data"
      ]
    },
    {
      "cell_type": "markdown",
      "metadata": {
        "id": "KTRd7_gQ0jme"
      },
      "source": [
        "### Data Train & Validation"
      ]
    },
    {
      "cell_type": "markdown",
      "metadata": {
        "id": "CLnJ95AqASza"
      },
      "source": [
        "<!-- if URL path ke direktori dataset. -->\n",
        "berupa direktori dataset.\n",
        "dan dataset output (dataset yang akan dihasilkan ketika melakukan split folder). "
      ]
    },
    {
      "cell_type": "code",
      "execution_count": null,
      "metadata": {
        "colab": {
          "base_uri": "https://localhost:8080/"
        },
        "id": "tTakvVRPAIUX",
        "outputId": "813fd913-b48e-4743-f1ee-3f639f9f0fef"
      },
      "outputs": [],
      "source": [
        "# uncomment if using google colab\n",
        "# from google.colab import drive\n",
        "# drive.mount('/content/drive')\n",
        "# url = '/content/drive/MyDrive/Dataset'\n",
        "     \n",
        "\n",
        "# uncomment if using local env\n",
        "url = 'insect'\n",
        "\n",
        "\n",
        "url_split = 'dataset_output'"
      ]
    },
    {
      "cell_type": "code",
      "execution_count": null,
      "metadata": {
        "colab": {
          "base_uri": "https://localhost:8080/"
        },
        "id": "RrzKKJuE-J6j",
        "outputId": "b0b0feb1-41cb-4558-ca92-a1eb85d89585"
      },
      "outputs": [],
      "source": [
        "splitfolders.ratio(url, output=url_split, seed=42, ratio=(0.7,0.2,0.1), group_prefix=None)"
      ]
    },
    {
      "cell_type": "markdown",
      "metadata": {
        "id": "f-voTqnW12yF"
      },
      "source": [
        "Disini saya menggunakan Image data generator dan batch size sebanyak 128\n",
        "untuk validation, saya menggunakan 20% data.\n",
        "Kemudian untuk subset training dan validation, target size nya adalah 120."
      ]
    },
    {
      "cell_type": "markdown",
      "metadata": {
        "id": "vRnQIfrTAXHr"
      },
      "source": [
        "ambil path dari folder masing - masing output"
      ]
    },
    {
      "cell_type": "code",
      "execution_count": null,
      "metadata": {
        "id": "5dwojDaYAMGq"
      },
      "outputs": [],
      "source": [
        "train = 'dataset_output/train'\n",
        "val = 'dataset_output/val'\n",
        "test = 'dataset_output/test'"
      ]
    },
    {
      "cell_type": "code",
      "execution_count": null,
      "metadata": {
        "colab": {
          "base_uri": "https://localhost:8080/"
        },
        "id": "Hq3Pe7fLJyn-",
        "outputId": "8955a87f-5541-4494-86b5-7467d68fec2c"
      },
      "outputs": [],
      "source": [
        "batch_size = 128\n",
        "\n",
        "train_image_generator = ImageDataGenerator(\n",
        "    rescale=1./255, \n",
        "    rotation_range=45,\n",
        "    width_shift_range= 0.2,\n",
        "    height_shift_range=0.2,\n",
        "    zoom_range= 0.2,\n",
        "    horizontal_flip=True,\n",
        "    validation_split= 0.1,\n",
        "    fill_mode='nearest',\n",
        ") #data preprocessing\n",
        "\n",
        "train = train_image_generator.flow_from_directory(\n",
        "    train, \n",
        "    target_size=(120,120),\n",
        "    batch_size=batch_size, \n",
        "    # color_mode=\"grayscale\"\n",
        ")\n",
        "\n",
        "test = train_image_generator.flow_from_directory(\n",
        "    test, \n",
        "    target_size=(120,120),\n",
        "    batch_size=batch_size,\n",
        "    # color_mode=\"grayscale\"\n",
        ")\n",
        "\n",
        "val = train_image_generator.flow_from_directory(\n",
        "    val, \n",
        "    target_size=(120,120),\n",
        "    batch_size=batch_size,\n",
        "    # color_mode=\"grayscale\"\n",
        ")"
      ]
    },
    {
      "cell_type": "markdown",
      "metadata": {
        "id": "xpAdbPxYMoLP"
      },
      "source": [
        "### Visualisasi Dataset"
      ]
    },
    {
      "cell_type": "code",
      "execution_count": null,
      "metadata": {
        "colab": {
          "base_uri": "https://localhost:8080/"
        },
        "id": "U-S_kT0dMoLP",
        "outputId": "d532b282-7d5b-45f3-8ba1-d5241a386a5c"
      },
      "outputs": [],
      "source": [
        "class_names = os.listdir('dataset_output/train/')\n",
        "class_names"
      ]
    },
    {
      "cell_type": "markdown",
      "metadata": {
        "id": "kX1xIRlVMoLP"
      },
      "source": [
        "**Preview Dataset**"
      ]
    },
    {
      "cell_type": "code",
      "execution_count": null,
      "metadata": {
        "colab": {
          "base_uri": "https://localhost:8080/",
          "height": 862
        },
        "id": "gmA_wQLkMoLQ",
        "outputId": "1b87a26f-5d25-4ee9-e973-03e02832a84a"
      },
      "outputs": [],
      "source": [
        "img,label = train.next() \n",
        "# Buat folder dlu disesuaikan sama nama di save_to_dir\n",
        "plt.figure(figsize=(15,15))\n",
        "for i in range(9):\n",
        "    plt.subplot(3, 3, i + 1)\n",
        "    plt.imshow(img[i], cmap='gray')\n",
        "    plt.title(f'{class_names[tf.argmax(label[i])]} {img[i].shape}')\n",
        "    plt.axis('off')"
      ]
    },
    {
      "cell_type": "markdown",
      "metadata": {
        "id": "Gae3Fc9eMoLQ"
      },
      "source": [
        "**Metadata**"
      ]
    },
    {
      "cell_type": "code",
      "execution_count": null,
      "metadata": {
        "id": "3s0Qf665MoLQ"
      },
      "outputs": [],
      "source": [
        "# folder\n",
        "path = url\n",
        "\n",
        "# lokasi train\n",
        "path_train = 'dataset_output/train'\n",
        "\n",
        "# lokasi test\n",
        "path_test = 'dataset_output/test'\n",
        "\n",
        "# lokasi validation\n",
        "path_val = 'dataset_output/val'\n",
        "\n",
        "def getSize():\n",
        "    count = 0\n",
        "    data_dir = pathlib.Path(path)\n",
        "    count += len(list(data_dir.glob('*/*.jpg')))\n",
        "    return count\n",
        "\n",
        "\n",
        "def getSizeTrain():\n",
        "    count = 0\n",
        "    data_dir = pathlib.Path(path_train)\n",
        "    count += len(list(data_dir.glob('*/*.jpg')))\n",
        "    return count\n",
        "\n",
        "def getSizeTest():\n",
        "    count = 0\n",
        "    data_dir = pathlib.Path(path_test)\n",
        "    count += len(list(data_dir.glob('*/*.jpg')))\n",
        "    return count\n",
        "\n",
        "def getSizeVal():\n",
        "    count = 0\n",
        "    data_dir = pathlib.Path(path_val)\n",
        "    count += len(list(data_dir.glob('*/*.jpg')))\n",
        "    return count\n",
        "\n"
      ]
    },
    {
      "cell_type": "code",
      "execution_count": null,
      "metadata": {
        "colab": {
          "base_uri": "https://localhost:8080/"
        },
        "id": "GoDDT7qcMoLS",
        "outputId": "5b3883ca-0b36-43c5-d09e-d0a86affacbc"
      },
      "outputs": [],
      "source": [
        "print(\"Nama Dataset      : Insect\")\n",
        "print(\"URL               : https://www.kaggle.com/search?q=insect+dataset\" )\n",
        "print(\"Image shape       :\", img[0].shape)\n",
        "print(\"Jumlah Data       :\", getSize())\n",
        "print(\"Jumlah Data Train :\", getSizeTrain())\n",
        "print(\"Jumlah Data Test  :\", getSizeTest())\n",
        "print(\"Jumlah Data val   :\", getSizeVal())\n",
        "print(\"Seluruh class     :\", class_names)"
      ]
    },
    {
      "cell_type": "markdown",
      "metadata": {
        "id": "pkX6fw2jMoLV"
      },
      "source": [
        "**Class Distribution**"
      ]
    },
    {
      "cell_type": "code",
      "execution_count": null,
      "metadata": {
        "id": "5zobfG3VMoLV"
      },
      "outputs": [],
      "source": [
        "class_size = []\n",
        "\n",
        "for i in os.listdir(path_train):\n",
        "    image_count = 0\n",
        "    data_dir = pathlib.Path(path_train + '/' +i)\n",
        "    image_count = len(os.listdir(data_dir))\n",
        "    class_size.append(image_count)"
      ]
    },
    {
      "cell_type": "code",
      "execution_count": null,
      "metadata": {
        "colab": {
          "base_uri": "https://localhost:8080/",
          "height": 631
        },
        "id": "rm0OTu6iMoLV",
        "outputId": "8d359944-13ed-4ec7-baff-f7a75dd9a7ca"
      },
      "outputs": [],
      "source": [
        "import seaborn as sns\n",
        "sns.set_theme()\n",
        "plt.figure(figsize=(15,10))\n",
        "\n",
        "sns.barplot(x=class_names,y=class_size,palette='rocket')\n",
        "plt.title(\"Perbandingan Jumlah tiap serangga\",fontfamily='arial',fontsize=15, fontweight='bold')\n",
        "plt.xlabel('Nama Serangga',fontfamily='arial',fontsize=15, fontweight='bold')\n",
        "plt.ylabel('Jumlah Serangga',fontfamily='arial',fontsize=15, fontweight='bold')\n",
        "plt.show()"
      ]
    },
    {
      "cell_type": "code",
      "execution_count": null,
      "metadata": {
        "colab": {
          "base_uri": "https://localhost:8080/",
          "height": 591
        },
        "id": "PqOp9htcMoLW",
        "outputId": "67d6fd33-1429-4901-8ff4-78244d1981c5"
      },
      "outputs": [],
      "source": [
        "plt.figure(figsize=(10,10))\n",
        "plt.pie(class_size, labels=class_names,startangle=90,autopct='%.2f%%',shadow=True,explode=(0.10,0,0,0,0))\n",
        "plt.title('Perbandingan Jumlah Tiap Barang')\n",
        "plt.show()"
      ]
    },
    {
      "cell_type": "code",
      "execution_count": null,
      "metadata": {
        "id": "kcED3u05MoLW"
      },
      "outputs": [],
      "source": [
        "# rows = 2\n",
        "# cols = 3\n",
        "# # fig = plt.figure(figsize=(7,8))\n",
        "# # for j in range (0, rows*cols):\n",
        "# #     fig.add_subplot(rows, cols, j+1)\n",
        "# #     plt.imshow(img[j])\n",
        "\n",
        "# for i in range(0, len(img), rows*cols):\n",
        "#     fig = plt.figure(figsize=(7,8))\n",
        "#     for j in range (0, rows*cols):\n",
        "#         fig.add_subplot(rows, cols, j+1)\n",
        "#         plt.imshow(img[j])\n",
        "#         # plt.imshow(img[i+j])\n",
        "#     plt.show()"
      ]
    },
    {
      "cell_type": "code",
      "execution_count": null,
      "metadata": {
        "id": "lRfMf48eMoLW"
      },
      "outputs": [],
      "source": []
    },
    {
      "cell_type": "code",
      "execution_count": null,
      "metadata": {
        "id": "Thc0v4viMoLW"
      },
      "outputs": [],
      "source": [
        "# plt.title(label_name[tf.argmax(label[2])])\n",
        "# plt.imshow(image[2])\n",
        "# plt.show()"
      ]
    },
    {
      "cell_type": "markdown",
      "metadata": {
        "id": "phDD9wZz0Jhx"
      },
      "source": [
        "# Model "
      ]
    },
    {
      "cell_type": "markdown",
      "metadata": {
        "id": "30_h3xrC0U_Q"
      },
      "source": [
        "Pada syntax di atas model dibentuk dengan suatu layer convo 2 dimensi dari size 120 x 120 pixels dimana fungsi aktivasinya adalah. Terdapat dua pembuatan layer convo, sehingga dilanjutkan dengan pembuatan layer max pooling dan pembuatan layer dropout. Karena ini adalah pelatihan deep learning maka perlu pelatihan lagi dengan membuat lagi layer untuk pelatihan. Kemudian dilanjutkan dengan layer flatten dan layer dense sampai dengan proses kompilasi.\n",
        "\n"
      ]
    },
    {
      "cell_type": "code",
      "execution_count": null,
      "metadata": {
        "id": "KKASX8IMKDe5"
      },
      "outputs": [],
      "source": [
        "model = tf.keras.Sequential([\n",
        "    tf.keras.layers.Conv2D(64, (3,3), activation='relu', input_shape=(120, 120, 3)),\n",
        "    tf.keras.layers.MaxPooling2D(2, 2),\n",
        "    \n",
        "    tf.keras.layers.Conv2D(128, (3,3), activation='relu'),\n",
        "    tf.ke ras.layers.MaxPooling2D(2, 2),\n",
        "    \n",
        "    tf.keras.layers.Conv2D(256, (3,3), activation='relu'),\n",
        "    tf.keras.layers.MaxPooling2D(2, 2),\n",
        "    \n",
        "    tf.keras.layers.Conv2D(512, (3,3), activation='relu'),\n",
        "    tf.keras.layers.MaxPooling2D(2, 2),\n",
        "        \n",
        "    tf.keras.layers.Conv2D(1024, (3,3), activation='relu'),\n",
        "    tf.keras.layers.MaxPooling2D(2, 2),\n",
        "    tf.keras.layers.Dropout(0.3), # drop neuron secara random\n",
        "\n",
        "    tf.keras.layers.Flatten(), # untuk jadikan 1dimensi\n",
        "\n",
        "    tf.keras.layers.Dense(512, activation='relu'), \n",
        "    tf.keras.layers.Dropout(0.5),\n",
        "    tf.keras.layers.Dense(1024, activation='relu'), \n",
        "    tf.keras.layers.Dropout(0.3),\n",
        "    tf.keras.layers.Dense(5, activation='softmax'), #multiclass pakai softmax\n",
        "])\n",
        "\n",
        "model.compile(loss = 'categorical_crossentropy', optimizer='adam', metrics=['accuracy'])\n",
        "# adam untuk mengurangi overfitting\n"
      ]
    },
    {
      "cell_type": "code",
      "execution_count": null,
      "metadata": {
        "colab": {
          "base_uri": "https://localhost:8080/"
        },
        "id": "zQhZ89wtL9Hf",
        "outputId": "51f846f9-b59c-4f75-b6d7-4c09c46f9771"
      },
      "outputs": [],
      "source": [
        "model.summary()"
      ]
    },
    {
      "cell_type": "code",
      "execution_count": null,
      "metadata": {
        "id": "OQhdlBuhMoLY"
      },
      "outputs": [],
      "source": [
        "# monitor_loss_callbacks = tf.keras.callbacks.EarlyStopping(patience=10)\n",
        "class StopTrain(tf.keras.callbacks.Callback):\n",
        "    def __init__(self, val):\n",
        "        self.val = val\n",
        "\n",
        "    def on_epoch_end(self, epoch, logs=None): \n",
        "        accuracy = logs[\"val_accuracy\"]\n",
        "        if (accuracy >= self.val) :\n",
        "            self.model.stop_training = True"
      ]
    },
    {
      "cell_type": "code",
      "execution_count": null,
      "metadata": {
        "colab": {
          "base_uri": "https://localhost:8080/"
        },
        "id": "xlfQiSR6-wG7",
        "outputId": "4f28cc79-70f6-4f9a-d0d5-54e4e6a83f8b"
      },
      "outputs": [],
      "source": [
        "# coba pakai callback custom misalnya: stop kalau accuracy train > 95%, dan earlystopping\n",
        "# history = model.fit(train, validation_data=val, epochs=50)\n",
        "history = model.fit(train, validation_data=val, epochs=200, callbacks=StopTrain(0.75))"
      ]
    },
    {
      "cell_type": "code",
      "execution_count": null,
      "metadata": {
        "colab": {
          "base_uri": "https://localhost:8080/",
          "height": 399
        },
        "id": "UK6hdXKAMoLY",
        "outputId": "3404b62f-fc21-4689-8ca9-8b21adf59a14"
      },
      "outputs": [],
      "source": [
        "loss_per_epoch = history.history[\"loss\"]\n",
        "n_epoch = list(range(len(loss_per_epoch)))\n",
        "\n",
        "plt.figure(figsize=(30, 8))\n",
        "sns.lineplot(data=loss_per_epoch, linewidth=2.5, marker=\"o\", linestyle='solid').set(xlabel='n_epoch', ylabel='loss', title='LOSS', xticks=n_epoch)\n",
        "plt.show()"
      ]
    },
    {
      "cell_type": "code",
      "execution_count": null,
      "metadata": {
        "id": "zMPktTzsMoLY"
      },
      "outputs": [],
      "source": [
        "model.save('./model/model_finished.h5')"
      ]
    },
    {
      "cell_type": "markdown",
      "metadata": {
        "id": "2ob3QnJ8MoLY"
      },
      "source": [
        "## Evaluasi"
      ]
    },
    {
      "cell_type": "code",
      "execution_count": null,
      "metadata": {},
      "outputs": [],
      "source": [
        "model = tf.keras.models.load_model(\n",
        "    './model/model_finished.h5',\n",
        ")\n",
        "\n",
        "print(model.summary())"
      ]
    },
    {
      "cell_type": "code",
      "execution_count": null,
      "metadata": {
        "colab": {
          "base_uri": "https://localhost:8080/"
        },
        "id": "etdpQypLMoLZ",
        "outputId": "f1e32125-de67-4dd9-a183-8e181d121259"
      },
      "outputs": [],
      "source": [
        "model.evaluate(np.array(test))"
      ]
    },
    {
      "cell_type": "code",
      "execution_count": null,
      "metadata": {
        "colab": {
          "base_uri": "https://localhost:8080/",
          "height": 301
        },
        "id": "fegm8ZkG-xUT",
        "outputId": "65f84c60-6472-40e3-f5d4-a133bf013b5a"
      },
      "outputs": [],
      "source": [
        "acc = history.history['accuracy']\n",
        "val_acc = history.history['val_accuracy']\n",
        "\n",
        "epochs = range(len(acc))\n",
        "\n",
        "plt.plot(epochs, acc, 'r', label='Akurasi Training')\n",
        "plt.plot(epochs, val_acc, 'g', label='Akurasi Validation')\n",
        "\n",
        "plt.xlabel('Epochs')\n",
        "plt.ylabel('Akurasi')\n",
        "plt.title('Akurasi Training and validation')\n",
        "plt.grid(axis='both')\n",
        "\n",
        "plt.show() "
      ]
    },
    {
      "cell_type": "code",
      "execution_count": null,
      "metadata": {
        "id": "vaMRHc2vMoLZ"
      },
      "outputs": [],
      "source": [
        "acc = history.history['accuracy']\n",
        "val_acc = history.history['val_accuracy']\n",
        "\n",
        "loss = history.history['loss']\n",
        "val_loss = history.history['val_loss']\n",
        "\n",
        "epochs = range(len(acc))\n",
        "\n",
        "plt.figure(1, figsize=(4,4))\n",
        "plt.plot(epochs,  acc, c='r', label='training')\n",
        "plt.plot(epochs,  val_acc, c='r', label='validation')\n",
        "plt.legend()\n",
        "plt.xlabel('epoch')\n",
        "plt.ylabel('akurasi')\n",
        "\n",
        "plt.figure(1, figsize=(4,4))\n",
        "plt.plot(epochs,  loss, c='r', label='training')\n",
        "plt.plot(epochs,  epochs, c='r', label='validation')\n",
        "plt.legend()\n",
        "plt.xlabel('epoch')\n",
        "plt.ylabel('akurasi')\n",
        "\n",
        "plt.show()\n",
        "\n",
        "# plt.plot(epochs, acc, 'r', label='Akurasi Training')\n",
        "# plt.plot(epochs, val_acc, 'g', label='Akurasi Validation')\n",
        "\n",
        "# plt.xlabel('Epochs')\n",
        "# plt.ylabel('Akurasi')\n",
        "# plt.title('Akurasi Training and validation')\n",
        "# plt.grid(axis='both')\n",
        "\n",
        "# plt.show() "
      ]
    },
    {
      "cell_type": "code",
      "execution_count": null,
      "metadata": {
        "id": "4dlNgGNZMoLZ"
      },
      "outputs": [],
      "source": []
    }
  ],
  "metadata": {
    "accelerator": "GPU",
    "colab": {
      "provenance": []
    },
    "gpuClass": "standard",
    "kernelspec": {
      "display_name": "Python 3.10.7 64-bit",
      "language": "python",
      "name": "python3"
    },
    "language_info": {
      "codemirror_mode": {
        "name": "ipython",
        "version": 3
      },
      "file_extension": ".py",
      "mimetype": "text/x-python",
      "name": "python",
      "nbconvert_exporter": "python",
      "pygments_lexer": "ipython3",
      "version": "3.10.7"
    },
    "vscode": {
      "interpreter": {
        "hash": "369f2c481f4da34e4445cda3fffd2e751bd1c4d706f27375911949ba6bb62e1c"
      }
    }
  },
  "nbformat": 4,
  "nbformat_minor": 0
}
