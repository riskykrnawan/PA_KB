{
  "cells": [
    {
      "cell_type": "code",
      "execution_count": null,
      "metadata": {},
      "outputs": [],
      "source": [
        "import numpy as np\n",
        "import pandas as pd\n",
        "\n",
        "# plot\n",
        "import matplotlib.pyplot as plt\n",
        "\n",
        "# tf\n",
        "import tensorflow as tf\n",
        "from keras.preprocessing.image import ImageDataGenerator\n",
        "\n",
        "import splitfolders"
      ]
    },
    {
      "cell_type": "markdown",
      "metadata": {},
      "source": [
        "## Data Collecting"
      ]
    },
    {
      "cell_type": "markdown",
      "metadata": {},
      "source": [
        "Dataset diambil dari website kaggle."
      ]
    },
    {
      "cell_type": "markdown",
      "metadata": {},
      "source": [
        "### Tujuan PA"
      ]
    },
    {
      "cell_type": "markdown",
      "metadata": {},
      "source": [
        "Membuat sebuah model yang dapat mengenali jenis dari serangga dengan menggunakan algoritma CNN.\n",
        "\n",
        "Batasan:\n",
        "  - Model ini hanya dapat mengenali:\n",
        "    - Kupu - Kupu, \n",
        "    - Capung, \n",
        "    - Nyamuk, \n",
        "    - Belalang,\n",
        "    - dan Kumbang."
      ]
    },
    {
      "cell_type": "markdown",
      "metadata": {},
      "source": [
        "### Deskripsi Dataset"
      ]
    },
    {
      "cell_type": "markdown",
      "metadata": {},
      "source": [
        "Dataset ini berupa gambar dari 5 serangga berbeda."
      ]
    },
    {
      "cell_type": "markdown",
      "metadata": {
        "id": "pCbLiD-z4_Sr"
      },
      "source": [
        "### Jumlah Dataset"
      ]
    },
    {
      "cell_type": "markdown",
      "metadata": {},
      "source": [
        "- Kupu - Kupu: 899\n",
        "- Capung: 1036\n",
        "- Nyamuk: 690\n",
        "- Belalang: 960\n",
        "- Kumbang: 864\n",
        "\n",
        "Total: 4449 data"
      ]
    },
    {
      "cell_type": "markdown",
      "metadata": {
        "id": "KTRd7_gQ0jme"
      },
      "source": [
        "### Data Train & Validation"
      ]
    },
    {
      "cell_type": "markdown",
      "metadata": {
        "id": "CLnJ95AqASza"
      },
      "source": [
        "URL path ke direktori dataset.\n",
        "berupa direktori dataset.\n",
        "dan dataset output (dataset yang akan dihasilkan ketika melakukan split folder). "
      ]
    },
    {
      "cell_type": "code",
      "execution_count": null,
      "metadata": {
        "id": "tTakvVRPAIUX"
      },
      "outputs": [],
      "source": [
        "url = 'insect'\n",
        "url_split = 'dataset_output'"
      ]
    },
    {
      "cell_type": "code",
      "execution_count": null,
      "metadata": {
        "colab": {
          "base_uri": "https://localhost:8080/"
        },
        "id": "RrzKKJuE-J6j",
        "outputId": "b69c6652-1914-451c-f96b-1199078cfba3"
      },
      "outputs": [],
      "source": [
        "splitfolders.ratio(url, output=url_split, seed=42, ratio=(0.7,0.2,0.1), group_prefix=None)"
      ]
    },
    {
      "cell_type": "markdown",
      "metadata": {
        "id": "f-voTqnW12yF"
      },
      "source": [
        "Disini saya menggunakan Image data generator dan batch size sebanyak 128\n",
        "untuk validation, saya menggunakan 20% data.\n",
        "Kemudian untuk subset training dan validation, target size nya adalah 120."
      ]
    },
    {
      "cell_type": "markdown",
      "metadata": {
        "id": "vRnQIfrTAXHr"
      },
      "source": [
        "ambil path dari folder masing - masing output"
      ]
    },
    {
      "cell_type": "code",
      "execution_count": null,
      "metadata": {
        "id": "5dwojDaYAMGq"
      },
      "outputs": [],
      "source": [
        "train = 'dataset_output/train'\n",
        "val = 'dataset_output/val'\n",
        "test = 'dataset_output/test'"
      ]
    },
    {
      "cell_type": "code",
      "execution_count": null,
      "metadata": {
        "colab": {
          "base_uri": "https://localhost:8080/"
        },
        "id": "Hq3Pe7fLJyn-",
        "outputId": "7e7bee6d-ab0c-433c-f993-db2abf797e08"
      },
      "outputs": [
        {
          "name": "stdout",
          "output_type": "stream",
          "text": [
            "Found 3112 images belonging to 5 classes.\n",
            "Found 449 images belonging to 5 classes.\n",
            "Found 888 images belonging to 5 classes.\n"
          ]
        }
      ],
      "source": [
        "batch_size = 128\n",
        "\n",
        "train_image_generator = ImageDataGenerator(\n",
        "    rescale=1./255, \n",
        "    rotation_range=45,\n",
        "    width_shift_range= 0.2,\n",
        "    height_shift_range=0.2,\n",
        "    zoom_range= 0.2,\n",
        "    horizontal_flip=True,\n",
        "    validation_split= 0.1,\n",
        "    fill_mode='nearest',\n",
        ") #data preprocessing\n",
        "\n",
        "train = train_image_generator.flow_from_directory(\n",
        "    train, \n",
        "    target_size=(120,120),\n",
        "    batch_size=batch_size, \n",
        "    color_mode=\"grayscale\"\n",
        ")\n",
        "\n",
        "test = train_image_generator.flow_from_directory(\n",
        "    test, \n",
        "    target_size=(120,120),\n",
        "    batch_size=batch_size,\n",
        "    color_mode=\"grayscale\"\n",
        ")\n",
        "\n",
        "val = train_image_generator.flow_from_directory(\n",
        "    val, \n",
        "    target_size=(120,120),\n",
        "    batch_size=batch_size,\n",
        "    color_mode=\"grayscale\"\n",
        ")"
      ]
    },
    {
      "cell_type": "code",
      "execution_count": null,
      "metadata": {},
      "outputs": [],
      "source": [
        "data_img = train_image_generator.flow_from_directory(\n",
        "    url, #path gambar disimpan\n",
        "    target_size= (150,150),\n",
        "    batch_size= 8,\n",
        "    shuffle = True,\n",
        "    class_mode = 'categorical',\n",
        "    save_to_dir = 'augmented',\n",
        "    save_prefix = 'aug',\n",
        "    save_format= \"jpg\"\n",
        ")"
      ]
    },
    {
      "cell_type": "code",
      "execution_count": null,
      "metadata": {},
      "outputs": [],
      "source": [
        "# Buat folder dlu disesuaikan sama nama di save_to_dir\n",
        "for i in range(5):\n",
        "  img,label = data_img.next()\n",
        "  plt.imshow(img[0])\n",
        "  # plt.axis('off')\n",
        "  plt.show()"
      ]
    },
    {
      "cell_type": "code",
      "execution_count": null,
      "metadata": {},
      "outputs": [],
      "source": [
        "image, label = train.next()\n",
        "\n",
        "label_name = ['Butterfly', 'Dragonfly', 'Grasshopper', 'Ladybird', 'Mosquito']"
      ]
    },
    {
      "cell_type": "code",
      "execution_count": null,
      "metadata": {},
      "outputs": [],
      "source": [
        "plt.title(label_name[tf.argmax(label[2])])\n",
        "plt.imshow(image[2])\n",
        "plt.show()"
      ]
    },
    {
      "cell_type": "markdown",
      "metadata": {
        "id": "phDD9wZz0Jhx"
      },
      "source": [
        "# Model "
      ]
    },
    {
      "cell_type": "markdown",
      "metadata": {
        "id": "30_h3xrC0U_Q"
      },
      "source": [
        "Pada syntax di atas model dibentuk dengan suatu layer convo 2 dimensi dari size 120 x 120 pixels dimana fungsi aktivasinya adalah. Terdapat dua pembuatan layer convo, sehingga dilanjutkan dengan pembuatan layer max pooling dan pembuatan layer dropout. Karena ini adalah pelatihan deep learning maka perlu pelatihan lagi dengan membuat lagi layer untuk pelatihan. Kemudian dilanjutkan dengan layer flatten dan layer dense sampai dengan proses kompilasi.\n",
        "\n"
      ]
    },
    {
      "cell_type": "code",
      "execution_count": null,
      "metadata": {
        "id": "KKASX8IMKDe5"
      },
      "outputs": [],
      "source": [
        "model = tf.keras.Sequential([\n",
        "    tf.keras.layers.Conv2D(\n",
        "        32, \n",
        "        (3,3), \n",
        "        activation='relu',\n",
        "        input_shape=(120, 120, 1), #parameter 3 untuk warna, kalau grayscale nilainya 1 kalau berwarna 3 \n",
        "        ),\n",
        "    tf.keras.layers.MaxPooling2D(2, 2), # untuk mengecilkan feature map\n",
        "\n",
        "    tf.keras.layers.Conv2D(\n",
        "      32,\n",
        "      (3,3), \n",
        "      activation='relu',\n",
        "      ),\n",
        "    tf.keras.layers.MaxPooling2D(2, 2),\n",
        "\n",
        "    tf.keras.layers.Conv2D(\n",
        "        32, \n",
        "        (3,3), \n",
        "        activation='relu', \n",
        "        ),\n",
        "    tf.keras.layers.MaxPooling2D(2, 2),\n",
        "    \n",
        "    tf.keras.layers.Conv2D(\n",
        "      128,\n",
        "      (3,3), \n",
        "      activation='relu',\n",
        "    ),\n",
        "    tf.keras.layers.MaxPooling2D(2, 2),\n",
        "\n",
        "    tf.keras.layers.Dropout(0.3), # drop neuron secara random\n",
        "\n",
        "    tf.keras.layers.Flatten(), # untuk jadikan 1dimensi\n",
        "\n",
        "    tf.keras.layers.Dense(128, activation='relu'), \n",
        "    tf.keras.layers.Dropout(0.5),\n",
        "    tf.keras.layers.Dense(5, activation='softmax'), #multiclass pakai softmax\n",
        "])\n",
        "\n",
        "model.compile(loss = 'categorical_crossentropy', optimizer='adam', metrics=['accuracy'])\n",
        "# adam untuk mengurangi overfitting\n"
      ]
    },
    {
      "cell_type": "code",
      "execution_count": null,
      "metadata": {
        "colab": {
          "base_uri": "https://localhost:8080/"
        },
        "id": "zQhZ89wtL9Hf",
        "outputId": "ab48b645-009b-41c5-e82a-3ad85ef9f68a"
      },
      "outputs": [
        {
          "name": "stdout",
          "output_type": "stream",
          "text": [
            "Model: \"sequential_1\"\n",
            "_________________________________________________________________\n",
            " Layer (type)                Output Shape              Param #   \n",
            "=================================================================\n",
            " conv2d_4 (Conv2D)           (None, 118, 118, 32)      320       \n",
            "                                                                 \n",
            " max_pooling2d_4 (MaxPooling  (None, 59, 59, 32)       0         \n",
            " 2D)                                                             \n",
            "                                                                 \n",
            " conv2d_5 (Conv2D)           (None, 57, 57, 32)        9248      \n",
            "                                                                 \n",
            " max_pooling2d_5 (MaxPooling  (None, 28, 28, 32)       0         \n",
            " 2D)                                                             \n",
            "                                                                 \n",
            " conv2d_6 (Conv2D)           (None, 26, 26, 32)        9248      \n",
            "                                                                 \n",
            " max_pooling2d_6 (MaxPooling  (None, 13, 13, 32)       0         \n",
            " 2D)                                                             \n",
            "                                                                 \n",
            " conv2d_7 (Conv2D)           (None, 11, 11, 128)       36992     \n",
            "                                                                 \n",
            " max_pooling2d_7 (MaxPooling  (None, 5, 5, 128)        0         \n",
            " 2D)                                                             \n",
            "                                                                 \n",
            " dropout_2 (Dropout)         (None, 5, 5, 128)         0         \n",
            "                                                                 \n",
            " flatten_1 (Flatten)         (None, 3200)              0         \n",
            "                                                                 \n",
            " dense_2 (Dense)             (None, 128)               409728    \n",
            "                                                                 \n",
            " dropout_3 (Dropout)         (None, 128)               0         \n",
            "                                                                 \n",
            " dense_3 (Dense)             (None, 5)                 645       \n",
            "                                                                 \n",
            "=================================================================\n",
            "Total params: 466,181\n",
            "Trainable params: 466,181\n",
            "Non-trainable params: 0\n",
            "_________________________________________________________________\n"
          ]
        }
      ],
      "source": [
        "model.summary()"
      ]
    },
    {
      "cell_type": "markdown",
      "metadata": {
        "id": "_epCVuzj1v5h"
      },
      "source": [
        "epoch dibuat sebanyak 30"
      ]
    },
    {
      "cell_type": "code",
      "execution_count": null,
      "metadata": {
        "id": "xlfQiSR6-wG7"
      },
      "outputs": [
        {
          "name": "stdout",
          "output_type": "stream",
          "text": [
            "Epoch 1/30\n",
            "25/25 [==============================] - 33s 1s/step - loss: 1.6023 - accuracy: 0.2195 - val_loss: 1.5767 - val_accuracy: 0.2455\n",
            "Epoch 2/30\n",
            "25/25 [==============================] - 19s 753ms/step - loss: 1.5477 - accuracy: 0.3075 - val_loss: 1.4791 - val_accuracy: 0.3435\n",
            "Epoch 3/30\n",
            "25/25 [==============================] - 19s 755ms/step - loss: 1.4677 - accuracy: 0.3641 - val_loss: 1.4093 - val_accuracy: 0.3930\n",
            "Epoch 4/30\n",
            "25/25 [==============================] - 19s 767ms/step - loss: 1.4012 - accuracy: 0.4033 - val_loss: 1.3808 - val_accuracy: 0.3964\n",
            "Epoch 5/30\n",
            "25/25 [==============================] - 19s 768ms/step - loss: 1.3818 - accuracy: 0.4139 - val_loss: 1.3141 - val_accuracy: 0.4752\n",
            "Epoch 6/30\n",
            "25/25 [==============================] - 19s 766ms/step - loss: 1.3284 - accuracy: 0.4364 - val_loss: 1.2902 - val_accuracy: 0.4741\n",
            "Epoch 7/30\n",
            "25/25 [==============================] - 19s 767ms/step - loss: 1.3096 - accuracy: 0.4582 - val_loss: 1.2510 - val_accuracy: 0.4797\n",
            "Epoch 8/30\n",
            "25/25 [==============================] - 19s 754ms/step - loss: 1.2888 - accuracy: 0.4814 - val_loss: 1.2138 - val_accuracy: 0.5236\n",
            "Epoch 9/30\n",
            "25/25 [==============================] - 19s 752ms/step - loss: 1.2774 - accuracy: 0.4781 - val_loss: 1.2199 - val_accuracy: 0.5135\n",
            "Epoch 10/30\n",
            "25/25 [==============================] - 19s 754ms/step - loss: 1.2533 - accuracy: 0.4871 - val_loss: 1.1905 - val_accuracy: 0.5191\n",
            "Epoch 11/30\n",
            "25/25 [==============================] - 19s 748ms/step - loss: 1.2446 - accuracy: 0.4984 - val_loss: 1.1587 - val_accuracy: 0.5259\n",
            "Epoch 12/30\n",
            "25/25 [==============================] - 19s 770ms/step - loss: 1.1990 - accuracy: 0.5129 - val_loss: 1.1258 - val_accuracy: 0.5428\n",
            "Epoch 13/30\n",
            "25/25 [==============================] - 19s 772ms/step - loss: 1.1797 - accuracy: 0.5398 - val_loss: 1.1519 - val_accuracy: 0.5225\n",
            "Epoch 14/30\n",
            "25/25 [==============================] - 19s 767ms/step - loss: 1.1568 - accuracy: 0.5424 - val_loss: 1.1375 - val_accuracy: 0.5405\n",
            "Epoch 15/30\n",
            "25/25 [==============================] - 19s 756ms/step - loss: 1.1559 - accuracy: 0.5498 - val_loss: 1.0780 - val_accuracy: 0.5709\n",
            "Epoch 16/30\n",
            "25/25 [==============================] - 19s 763ms/step - loss: 1.1222 - accuracy: 0.5504 - val_loss: 1.1092 - val_accuracy: 0.5439\n",
            "Epoch 17/30\n",
            "25/25 [==============================] - 19s 758ms/step - loss: 1.1454 - accuracy: 0.5501 - val_loss: 1.1092 - val_accuracy: 0.5642\n",
            "Epoch 18/30\n",
            "25/25 [==============================] - 19s 758ms/step - loss: 1.1042 - accuracy: 0.5659 - val_loss: 1.0324 - val_accuracy: 0.5811\n",
            "Epoch 19/30\n",
            "25/25 [==============================] - 22s 860ms/step - loss: 1.0812 - accuracy: 0.5800 - val_loss: 1.0718 - val_accuracy: 0.5811\n",
            "Epoch 20/30\n",
            "25/25 [==============================] - 19s 764ms/step - loss: 1.0922 - accuracy: 0.5729 - val_loss: 1.0219 - val_accuracy: 0.6025\n",
            "Epoch 21/30\n",
            "25/25 [==============================] - 20s 780ms/step - loss: 1.0526 - accuracy: 0.5835 - val_loss: 1.0133 - val_accuracy: 0.5856\n",
            "Epoch 22/30\n",
            "25/25 [==============================] - 19s 751ms/step - loss: 1.0374 - accuracy: 0.5970 - val_loss: 1.0023 - val_accuracy: 0.5923\n",
            "Epoch 23/30\n",
            "25/25 [==============================] - 19s 758ms/step - loss: 1.0188 - accuracy: 0.6115 - val_loss: 1.0057 - val_accuracy: 0.6059\n",
            "Epoch 24/30\n",
            "25/25 [==============================] - 19s 779ms/step - loss: 1.0347 - accuracy: 0.5948 - val_loss: 0.9821 - val_accuracy: 0.5935\n",
            "Epoch 25/30\n",
            "25/25 [==============================] - 19s 758ms/step - loss: 1.0035 - accuracy: 0.6173 - val_loss: 0.9717 - val_accuracy: 0.6261\n",
            "Epoch 26/30\n",
            "25/25 [==============================] - 19s 759ms/step - loss: 0.9872 - accuracy: 0.6076 - val_loss: 0.9663 - val_accuracy: 0.6205\n",
            "Epoch 27/30\n",
            "25/25 [==============================] - 19s 775ms/step - loss: 0.9945 - accuracy: 0.6154 - val_loss: 1.0130 - val_accuracy: 0.6070\n",
            "Epoch 28/30\n",
            "25/25 [==============================] - 19s 770ms/step - loss: 0.9682 - accuracy: 0.6305 - val_loss: 0.9318 - val_accuracy: 0.6419\n",
            "Epoch 29/30\n",
            "25/25 [==============================] - 19s 763ms/step - loss: 0.9572 - accuracy: 0.6362 - val_loss: 0.9480 - val_accuracy: 0.6374\n",
            "Epoch 30/30\n",
            "25/25 [==============================] - 19s 762ms/step - loss: 0.9428 - accuracy: 0.6388 - val_loss: 0.9469 - val_accuracy: 0.6239\n"
          ]
        }
      ],
      "source": [
        "# coba pakai callback custom misalnya: stop kalau accuracy train > 95%, dan earlystopping\n",
        "history = model.fit(train, validation_data=val, epochs=30)"
      ]
    },
    {
      "cell_type": "code",
      "execution_count": null,
      "metadata": {},
      "outputs": [
        {
          "name": "stdout",
          "output_type": "stream",
          "text": [
            "4/4 [==============================] - 3s 673ms/step - loss: 1.0441 - accuracy: 0.6125\n"
          ]
        },
        {
          "data": {
            "text/plain": [
              "[1.0441186428070068, 0.6124721765518188]"
            ]
          },
          "execution_count": 21,
          "metadata": {},
          "output_type": "execute_result"
        }
      ],
      "source": [
        "model.evaluate(test)"
      ]
    },
    {
      "cell_type": "code",
      "execution_count": null,
      "metadata": {
        "id": "fegm8ZkG-xUT"
      },
      "outputs": [
        {
          "data": {
            "image/png": "[encoded data removed]",
            "text/plain": [
              "<Figure size 640x480 with 1 Axes>"
            ]
          },
          "metadata": {},
          "output_type": "display_data"
        }
      ],
      "source": [
        "acc = history.history['accuracy']\n",
        "val_acc = history.history['val_accuracy']\n",
        "\n",
        "epochs = range(len(acc))\n",
        "\n",
        "plt.plot(epochs, acc, 'r', label='Akurasi Training')\n",
        "plt.plot(epochs, val_acc, 'g', label='Akurasi Validation')\n",
        "\n",
        "plt.xlabel('Epochs')\n",
        "plt.ylabel('Akurasi')\n",
        "plt.title('Akurasi Training and validation')\n",
        "plt.grid(axis='both')\n",
        "\n",
        "plt.show() "
      ]
    },
    {
      "cell_type": "code",
      "execution_count": null,
      "metadata": {},
      "outputs": [],
      "source": [
        "acc = history.history['accuracy']\n",
        "val_acc = history.history['val_accuracy']\n",
        "\n",
        "loss = history.history['loss']\n",
        "val_loss = history.history['val_loss']\n",
        "\n",
        "epochs = range(len(acc))\n",
        "\n",
        "plt.figure(1, figsize=(4,4))\n",
        "plt.plot(x,  acc, c='r', label='training')\n",
        "plt.plot(x,  val_acc, c='r', label='validation')\n",
        "plt.legend()\n",
        "plt.xlabel('epoch')\n",
        "plt.ylabel('akurasi')\n",
        "\n",
        "plt.figure(1, figsize=(4,4))\n",
        "plt.plot(x,  loss, c='r', label='training')\n",
        "plt.plot(x,  epochs, c='r', label='validation')\n",
        "plt.legend()\n",
        "plt.xlabel('epoch')\n",
        "plt.ylabel('akurasi')\n",
        "\n",
        "plt.show()\n",
        "\n",
        "# plt.plot(epochs, acc, 'r', label='Akurasi Training')\n",
        "# plt.plot(epochs, val_acc, 'g', label='Akurasi Validation')\n",
        "\n",
        "# plt.xlabel('Epochs')\n",
        "# plt.ylabel('Akurasi')\n",
        "# plt.title('Akurasi Training and validation')\n",
        "# plt.grid(axis='both')\n",
        "\n",
        "# plt.show() "
      ]
    },
    {
      "cell_type": "code",
      "execution_count": null,
      "metadata": {},
      "outputs": [],
      "source": []
    }
  ],
  "metadata": {
    "accelerator": "GPU",
    "colab": {
      "provenance": []
    },
    "gpuClass": "standard",
    "kernelspec": {
      "display_name": "Python 3.10.7 64-bit",
      "language": "python",
      "name": "python3"
    },
    "language_info": {
      "codemirror_mode": {
        "name": "ipython",
        "version": 3
      },
      "file_extension": ".py",
      "mimetype": "text/x-python",
      "name": "python",
      "nbconvert_exporter": "python",
      "pygments_lexer": "ipython3",
      "version": "3.10.7"
    },
    "vscode": {
      "interpreter": {
        "hash": "f5f50d25ca3c68e82500d2bc39d9838cca35bd2c245f978e6b5682bdf2dfdf82"
      }
    }
  },
  "nbformat": 4,
  "nbformat_minor": 0
}
